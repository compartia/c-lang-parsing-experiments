{
 "cells": [
  {
   "cell_type": "markdown",
   "metadata": {},
   "source": [
    "## Wordpiece Model\n",
    "\n",
    "inspired by https://arxiv.org/pdf/1609.08144.pdf\n",
    "and https://arxiv.org/abs/1508.07909\n",
    "\n"
   ]
  },
  {
   "cell_type": "code",
   "execution_count": 1,
   "metadata": {
    "collapsed": false
   },
   "outputs": [],
   "source": [
    "import os\n",
    "import csv\n",
    "\n",
    "from wordpieces import wordpieces as wp\n",
    "from wordpieces.wordpieces import WPDict, WPDictBuilder\n",
    "\n",
    "data_dir    = \"c-files\"\n",
    "input_file_name = \"linux_kernel_concat.txt\"\n",
    "#input_file_name = \"memmgr.c\"\n",
    "input_file  = os.path.join(data_dir, input_file_name)"
   ]
  },
  {
   "cell_type": "code",
   "execution_count": 2,
   "metadata": {
    "collapsed": true
   },
   "outputs": [],
   "source": [
    "def readCommentsFileTsv(input_file):\n",
    "    rows=[]\n",
    "    with open(input_file, encoding='utf-8') as infile:\n",
    "        tsvreader = csv.reader(infile, delimiter=\"\\t\")\n",
    "        for row in tsvreader:\n",
    "            rows.append(row)\n",
    "    \n",
    "    return rows;"
   ]
  },
  {
   "cell_type": "markdown",
   "metadata": {},
   "source": [
    "### Build Dictionary"
   ]
  },
  {
   "cell_type": "code",
   "execution_count": 3,
   "metadata": {
    "collapsed": false
   },
   "outputs": [
    {
     "name": "stdout",
     "output_type": "stream",
     "text": [
      "7417\n"
     ]
    }
   ],
   "source": [
    "comments = readCommentsFileTsv(input_file + \".comments.csv\");\n",
    " \n",
    "wp_dict_builder = WPDictBuilder()\n",
    "for comment in comments:\n",
    "    txt=comment[2]\n",
    "    wp_dict_builder.learn_sentense(txt)\n",
    "\n",
    "print (len(wp_dict_builder.stats))"
   ]
  },
  {
   "cell_type": "markdown",
   "metadata": {},
   "source": [
    "### Keep only 10 000 top wordpeaces"
   ]
  },
  {
   "cell_type": "code",
   "execution_count": 4,
   "metadata": {
    "collapsed": false
   },
   "outputs": [
    {
     "name": "stdout",
     "output_type": "stream",
     "text": [
      "building WPDict of size 5000\n",
      "dictionary size is 5000 \n"
     ]
    }
   ],
   "source": [
    "wp_dict = wp_dict_builder.build(5000)\n",
    "print(\"dictionary size is %d \"%len(wp_dict.stats))"
   ]
  },
  {
   "cell_type": "markdown",
   "metadata": {},
   "source": [
    "## test splitting sentenses into wordpieces from dictionary"
   ]
  },
  {
   "cell_type": "code",
   "execution_count": 5,
   "metadata": {
    "collapsed": false
   },
   "outputs": [
    {
     "name": "stdout",
     "output_type": "stream",
     "text": [
      "('_he', 3)\n",
      "_wo rd pie ces\n",
      "_ar tem\n",
      "_se nte nse s\n",
      "_te st _sp lit tin g _se nte nse s _in to _wo rd pie ces _fr om _di cti ona ry\n",
      "_li nux /ke rne l/ acc t.c _BS D _Pr oce ss _Ac cou nti ng _fo r _Li nux _Au tho r: _Ma rco _va n _Wi eri nge n _<m <UNK> <UNK> <UNK> pla net s. el m. net > _So me _co de _ba sed _on _id eas _an d _co de _fr om : _Th oma s _K . _Dy as _<t dy as <UNK> ede n. ru tg ers .e du > _Th is _fi le _im ple men ts _BS D-s tyl e _pr oce ss _ac cou nti ng. _Wh ene ver _an y _pr oce ss _ex its , _an _ac cou nti ng _re cor d _of _ty pe _\"s tru ct _ac ct \" _is _wr itt en _to _th e _fi le _sp eci fie d _wi th _th e _ac ct( ) _sy ste m _ca ll. _It _is _up _to _us er- lev el _pr ogr ams _to _do _us efu l _th ing s _wi th _th e _ac cou nti ng _lo g. _Th e _ke rne l _ju st _pr ovi des _th e _ra w _ac cou nti ng _in for mat ion . _(C ) _Co pyr igh t _19 95 _- _19 97 _Ma rco _va n _Wi eri nge n _- _EL M _Co nsu lta ncy _B <UNK> V. _Pl ugg ed _tw o _le aks . _1) _It _di dn' t _re tur n _ac ct_ fil e _in to _th e _fr ee_ fil ps _if _th e _fi le _ha ppe ned _to _be _re ad- onl y. _2) _If _th e _ac cou nti ng _wa s _su spe nde d _du e _to _th e _la ck _of _sp ace _it _ha ppi ly _al low ed _to _re ope n _it _an d _co mpl ete ly _lo st _th e _ol d _ac ct_ fil e. _3 /10 /98 , _Al _V ir o. _No w _we _si len tly _cl ose _ac ct_ fil e _on _at tem pt _to _re ope n. _Cl ean ed _sy s_a cct (). _X Te rms _an d _E MA CS _ar e _ma ni fe sta tio ns _of _pu re _ev il. _21 /10 /98 , _AV . _Fi xed _a _na sty _in ter act ion _wi th _wi th _sy s_u mou nt( ). _If _th e _ac co int ing _wa s _su spe ned ed _we _fa ile d _to _st op _it _on _um oun t() . _Me ss y. _An oth er _on e: _re mou nt _to _re ado nly _di dn' t _st op _ac cou nti ng. _Qu est ion : _wh at _sh oul d _we _do _if _we _ha ve _CA P_S YS_ ADM IN _bu t _no t _CA P_S YS_ PA <UNK> CT ? _Cu rre nt _co de _do es _th e _fo llo win g: _um oun t _re tur ns _-E BUS Y _un les s _we _ar e _me ssi ng _wi th _th e _ro ot. _In _th at _ca se _we _ar e _ge tti ng _a _re al _me ss _wi th _do _re mou nt_ sb (). _9 /11 /98 , _AV . _Fi xed _a _bu nch _of _ra ces _(a nd _pa ir _of _le aks ). _Pr oba bly _no t _th e _be st _wa y, _bu t _th is _on e _ob vio us ly _do esn 't _in tro duc e _de adl ock s. _La ter . _B <UNK> <UNK> , _fo und _on e _ra ce _(a nd _le ak ) _in _BS D _im ple men tat ion . _OK , _th at' s _be tte r. _AN OT HER _ra ce _an d _le ak _in _BS D _va ria nt. _Th ere _al way s _is _on e _mo re _bu g. .. _10 /11 /98 , _AV . _O h, _fs ck. .. _Oo ps abl e _SM P _ra ce _in _do _pr oce ss_ acc t() _- _we _mu st _ho ld _-> mma p_s em _to _wa lk _th e _vm a _li st _of _cu rre nt- >mm . _Na sty , _si nce _it _le aks _a _st ruc t _fi le _op ene d _fo r _wr ite . _Fi xed . _2/ 6/ 200 0, _AV .\n",
      "_se cto r_d iv\n",
      "_Th] [ese] [_co] [nst] [ant] [s] [_co] [ntr] [ol] [_th] [e] [_am] [oun] [t] [_of] [_fr] [ees] [pac] [e] [_th] [at] [_su] [spe] [nd] [_an] [d] [_re] [sum] [e] [_th] [e] [_pr] [oce] [ss] [_ac] [cou] [nti] [ng] [_sy] [ste] [m,] [_an] [d] [_th] [e] [_ti] [me] [_de] [lay] [_be] [twe] [en] [_ea] [ch] [_ch] [eck] [.] [_Tu] [rne] [d] [_in] [to] [_sy] [sct] [l-] [con] [tro] [lla] [ble] [_pa] [ram] [ete] [rs.] [_AV] [,] [_12] [/11] [/98\n"
     ]
    }
   ],
   "source": [
    "print(wp_dict.find_longest_chunk(\"_hema\"))\n",
    "\n",
    "# break_word\n",
    "print (\" \".join(wp_dict.break_word(\"wordpieces\")))\n",
    "print (\" \".join(wp_dict.break_word(\"artem\")))\n",
    "print (\" \".join(wp_dict.break_word(\"sentenses\")))\n",
    "\n",
    "# break_sentence\n",
    "print (\" \".join(wp_dict.break_sentence(\"test splitting sentenses into wordpieces from dictionary\")))\n",
    "print (\" \".join(wp_dict.break_sentence(comments[0][2])))\n",
    "print (\" \".join(wp_dict.break_sentence(comments[1][2])))\n",
    "print (\"] [\".join(wp_dict.break_sentence(comments[2][2])))\n",
    "\n"
   ]
  },
  {
   "cell_type": "markdown",
   "metadata": {},
   "source": [
    "#### Test restoring sentenses from list of wordpieces"
   ]
  },
  {
   "cell_type": "code",
   "execution_count": 6,
   "metadata": {
    "collapsed": false
   },
   "outputs": [
    {
     "name": "stdout",
     "output_type": "stream",
     "text": [
      "original:---------------------\n",
      "linux/kernel/acct.c\n",
      "\n",
      "BSD Process Accounting for Linux\n",
      "\n",
      "Author: Marco van Wieringen <mvw@planets.elm.net>\n",
      "\n",
      "Some code based on ideas and code from:\n",
      "Thomas K. Dyas <tdyas@eden.rutgers.edu>\n",
      "\n",
      "This file implements BSD-style process accounting. Whenever any\n",
      "process exits, an accounting record of type \"struct acct\" is\n",
      "written to the file specified with the acct() system call. It is\n",
      "up to user-level programs to do useful things with the accounting\n",
      "log. The kernel just provides the raw accounting information.\n",
      "\n",
      "(C) Copyright 1995 - 1997 Marco van Wieringen - ELM Consultancy B.V.\n",
      "\n",
      "Plugged two leaks. 1) It didn't return acct_file into the free_filps if\n",
      "the file happened to be read-only. 2) If the accounting was suspended\n",
      "due to the lack of space it happily allowed to reopen it and completely\n",
      "lost the old acct_file. 3/10/98, Al Viro.\n",
      "\n",
      "Now we silently close acct_file on attempt to reopen. Cleaned sys_acct().\n",
      "XTerms and EMACS are manifestations of pure evil. 21/10/98, AV.\n",
      "\n",
      "Fixed a nasty interaction with with sys_umount(). If the accointing\n",
      "was suspeneded we failed to stop it on umount(). Messy.\n",
      "Another one: remount to readonly didn't stop accounting.\n",
      "Question: what should we do if we have CAP_SYS_ADMIN but not\n",
      "CAP_SYS_PACCT? Current code does the following: umount returns -EBUSY\n",
      "unless we are messing with the root. In that case we are getting a\n",
      "real mess with do_remount_sb(). 9/11/98, AV.\n",
      "\n",
      "Fixed a bunch of races (and pair of leaks). Probably not the best way,\n",
      "but this one obviously doesn't introduce deadlocks. Later. BTW, found\n",
      "one race (and leak) in BSD implementation.\n",
      "OK, that's better. ANOTHER race and leak in BSD variant. There always\n",
      "is one more bug... 10/11/98, AV.\n",
      "\n",
      "Oh, fsck... Oopsable SMP race in do_process_acct() - we must hold\n",
      "->mmap_sem to walk the vma list of current->mm. Nasty, since it leaks\n",
      "a struct file opened for write. Fixed. 2/6/2000, AV.\n",
      "\n",
      "breaks:---------------------\n",
      "_li nux /ke rne l/ acc t.c _BS D _Pr oce ss _Ac cou nti ng _fo r _Li nux _Au tho r: _Ma rco _va n _Wi eri nge n _<m <UNK> <UNK> <UNK> pla net s. el m. net > _So me _co de _ba sed _on _id eas _an d _co de _fr om : _Th oma s _K . _Dy as _<t dy as <UNK> ede n. ru tg ers .e du > _Th is _fi le _im ple men ts _BS D-s tyl e _pr oce ss _ac cou nti ng. _Wh ene ver _an y _pr oce ss _ex its , _an _ac cou nti ng _re cor d _of _ty pe _\"s tru ct _ac ct \" _is _wr itt en _to _th e _fi le _sp eci fie d _wi th _th e _ac ct( ) _sy ste m _ca ll. _It _is _up _to _us er- lev el _pr ogr ams _to _do _us efu l _th ing s _wi th _th e _ac cou nti ng _lo g. _Th e _ke rne l _ju st _pr ovi des _th e _ra w _ac cou nti ng _in for mat ion . _(C ) _Co pyr igh t _19 95 _- _19 97 _Ma rco _va n _Wi eri nge n _- _EL M _Co nsu lta ncy _B <UNK> V. _Pl ugg ed _tw o _le aks . _1) _It _di dn' t _re tur n _ac ct_ fil e _in to _th e _fr ee_ fil ps _if _th e _fi le _ha ppe ned _to _be _re ad- onl y. _2) _If _th e _ac cou nti ng _wa s _su spe nde d _du e _to _th e _la ck _of _sp ace _it _ha ppi ly _al low ed _to _re ope n _it _an d _co mpl ete ly _lo st _th e _ol d _ac ct_ fil e. _3 /10 /98 , _Al _V ir o. _No w _we _si len tly _cl ose _ac ct_ fil e _on _at tem pt _to _re ope n. _Cl ean ed _sy s_a cct (). _X Te rms _an d _E MA CS _ar e _ma ni fe sta tio ns _of _pu re _ev il. _21 /10 /98 , _AV . _Fi xed _a _na sty _in ter act ion _wi th _wi th _sy s_u mou nt( ). _If _th e _ac co int ing _wa s _su spe ned ed _we _fa ile d _to _st op _it _on _um oun t() . _Me ss y. _An oth er _on e: _re mou nt _to _re ado nly _di dn' t _st op _ac cou nti ng. _Qu est ion : _wh at _sh oul d _we _do _if _we _ha ve _CA P_S YS_ ADM IN _bu t _no t _CA P_S YS_ PA <UNK> CT ? _Cu rre nt _co de _do es _th e _fo llo win g: _um oun t _re tur ns _-E BUS Y _un les s _we _ar e _me ssi ng _wi th _th e _ro ot. _In _th at _ca se _we _ar e _ge tti ng _a _re al _me ss _wi th _do _re mou nt_ sb (). _9 /11 /98 , _AV . _Fi xed _a _bu nch _of _ra ces _(a nd _pa ir _of _le aks ). _Pr oba bly _no t _th e _be st _wa y, _bu t _th is _on e _ob vio us ly _do esn 't _in tro duc e _de adl ock s. _La ter . _B <UNK> <UNK> , _fo und _on e _ra ce _(a nd _le ak ) _in _BS D _im ple men tat ion . _OK , _th at' s _be tte r. _AN OT HER _ra ce _an d _le ak _in _BS D _va ria nt. _Th ere _al way s _is _on e _mo re _bu g. .. _10 /11 /98 , _AV . _O h, _fs ck. .. _Oo ps abl e _SM P _ra ce _in _do _pr oce ss_ acc t() _- _we _mu st _ho ld _-> mma p_s em _to _wa lk _th e _vm a _li st _of _cu rre nt- >mm . _Na sty , _si nce _it _le aks _a _st ruc t _fi le _op ene d _fo r _wr ite . _Fi xed . _2/ 6/ 200 0, _AV .\n",
      "745\n",
      "\n",
      "restored:---------------------\n",
      "_linux/kernel/acct.c BSD Process Accounting for Linux Author: Marco van Wieringen <m<UNK><UNK><UNK>planets.elm.net> Some code based on ideas and code from: Thomas K. Dyas <tdyas<UNK>eden.rutgers.edu> This file implements BSD-style process accounting. Whenever any process exits, an accounting record of type \"struct acct\" is written to the file specified with the acct() system call. It is up to user-level programs to do useful things with the accounting log. The kernel just provides the raw accounting information. (C) Copyright 1995 - 1997 Marco van Wieringen - ELM Consultancy B<UNK>V. Plugged two leaks. 1) It didn't return acct_file into the free_filps if the file happened to be read-only. 2) If the accounting was suspended due to the lack of space it happily allowed to reopen it and completely lost the old acct_file. 3/10/98, Al Viro. Now we silently close acct_file on attempt to reopen. Cleaned sys_acct(). XTerms and EMACS are manifestations of pure evil. 21/10/98, AV. Fixed a nasty interaction with with sys_umount(). If the accointing was suspeneded we failed to stop it on umount(). Messy. Another one: remount to readonly didn't stop accounting. Question: what should we do if we have CAP_SYS_ADMIN but not CAP_SYS_PA<UNK>CT? Current code does the following: umount returns -EBUSY unless we are messing with the root. In that case we are getting a real mess with do remount_sb(). 9/11/98, AV. Fixed a bunch of races (and pair of leaks). Probably not the best way, but this one obviously doesn't introduce deadlocks. Later. B<UNK><UNK>, found one race (and leak) in BSD implementation. OK, that's better. ANOTHER race and leak in BSD variant. There always is one more bug... 10/11/98, AV. Oh, fsck... Oopsable SMP race in do process_acct() - we must hold ->mmap_sem to walk the vma list of current->mm. Nasty, since it leaks a struct file opened for write. Fixed. 2/6/2000, AV.\n"
     ]
    }
   ],
   "source": [
    "sentence=comments[0][2]\n",
    "print(\"original:---------------------\")\n",
    "print(sentence)\n",
    "\n",
    "breaks=list(wp_dict.break_sentence(sentence))\n",
    "print()\n",
    "print(\"breaks:---------------------\")\n",
    "print (\" \".join(breaks))\n",
    "\n",
    "print (len(breaks))\n",
    "print()\n",
    "print(\"restored:---------------------\")\n",
    "print (wp_dict.joinSentence(breaks))"
   ]
  },
  {
   "cell_type": "code",
   "execution_count": null,
   "metadata": {
    "collapsed": true
   },
   "outputs": [],
   "source": []
  }
 ],
 "metadata": {
  "kernelspec": {
   "display_name": "Python 3",
   "language": "python",
   "name": "python3"
  },
  "language_info": {
   "codemirror_mode": {
    "name": "ipython",
    "version": 3
   },
   "file_extension": ".py",
   "mimetype": "text/x-python",
   "name": "python",
   "nbconvert_exporter": "python",
   "pygments_lexer": "ipython3",
   "version": "3.4.3"
  }
 },
 "nbformat": 4,
 "nbformat_minor": 2
}
