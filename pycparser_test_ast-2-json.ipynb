{
 "cells": [
  {
   "cell_type": "markdown",
   "metadata": {},
   "source": [
    "## 1. Pre-process C file with gcc -E"
   ]
  },
  {
   "cell_type": "code",
   "execution_count": 1,
   "metadata": {
    "collapsed": false
   },
   "outputs": [
    {
     "name": "stdout",
     "output_type": "stream",
     "text": [
      "/notebooks\n",
      "TAIL of PRE-processes redis.c.pp\n",
      "\n",
      "    if (server.maxmemory > 0 && server.maxmemory < 1024*1024) {\n",
      "        redisLog(3,\"WARNING: You specified a maxmemory value that is less than 1MB (current value is %llu bytes). Are you sure this is what you really want?\", server.maxmemory);\n",
      "    }\n",
      "\n",
      "    aeSetBeforeSleepProc(server.el,beforeSleep);\n",
      "    aeMain(server.el);\n",
      "    aeDeleteEventLoop(server.el);\n",
      "    return 0;\n",
      "}\n"
     ]
    }
   ],
   "source": [
    "%%sh\n",
    "pwd\n",
    "gcc -E -nostdinc -D'__attribute__(x)=' -Ipycparser-release_v2.17/utils/fake_libc_include -Ic-files/redis/src -Ic-files/redis/deps/lua/src c-files/redis/src/redis.c  > c-files/redis/src/redis.c.pp\n",
    "echo TAIL of PRE-processes redis.c.pp\n",
    "tail c-files/redis/src/redis.c.pp\n"
   ]
  },
  {
   "cell_type": "code",
   "execution_count": 2,
   "metadata": {
    "collapsed": true
   },
   "outputs": [],
   "source": [
    "from pycparser import parse_file, c_ast, c_generator\n",
    "from rnn_c_model import c_generator\n",
    "from rnn_c_model.c_json import from_dict, to_dict, to_json, from_json"
   ]
  },
  {
   "cell_type": "markdown",
   "metadata": {},
   "source": [
    "## 2. Parse preprocessed C -> Abstract Syntax Tree (AST)"
   ]
  },
  {
   "cell_type": "code",
   "execution_count": 3,
   "metadata": {
    "collapsed": false
   },
   "outputs": [],
   "source": [
    "ast = parse_file(\"c-files/redis/src/redis.c.pp\")"
   ]
  },
  {
   "cell_type": "markdown",
   "metadata": {},
   "source": [
    "## 3. Convert AST -> JSON"
   ]
  },
  {
   "cell_type": "code",
   "execution_count": 4,
   "metadata": {
    "collapsed": true
   },
   "outputs": [],
   "source": [
    "json = to_json(ast, sort_keys=True, indent=4)"
   ]
  },
  {
   "cell_type": "markdown",
   "metadata": {},
   "source": [
    "#### print resulting JSON fragment"
   ]
  },
  {
   "cell_type": "code",
   "execution_count": 5,
   "metadata": {
    "collapsed": false
   },
   "outputs": [
    {
     "name": "stdout",
     "output_type": "stream",
     "text": [
      ",\n",
      "                                    \"type\": {\n",
      "                                        \"_nodetype\": \"TypeDecl\",\n",
      "                                        \"coord\": \"c-files/redis/src/rio.h:95\",\n",
      "                                        \"declname\": \"bytes_to_write\",\n",
      "                                        \"quals\": [],\n",
      "                                        \"type\": {\n",
      "                                            \"_nodetype\": \"IdentifierType\",\n",
      "                                            \"coord\": \"c-files/redis/src/rio.h:95\",\n",
      "                                            \"names\": [\n",
      "                                                \"size_t\"\n",
      "                                            ]\n",
      "                                        }\n",
      "                                    }\n",
      "                                },\n",
      "                                {\n",
      "                                    \"_nodetype\": \"If\",\n",
      "                                    \"cond\": {\n",
      "                                        \"_nodetype\": \"StructRef\",\n",
      "                                        \"coord\": \"c-files/redis/src/rio.h:96\",\n",
      "                                        \"field\": {\n",
      "                                            \"_nodetype\": \"ID\",\n",
      "                                            \"coord\": \"c-files/redis/src/rio.h:96\",\n",
      "                                            \"name\": \"update_cksum\"\n",
      "                                        },\n",
      "                                        \"name\": {\n",
      "                                            \"_nodetype\": \"ID\",\n",
      "                                            \"coord\": \"c-files/redis/src/rio.h:96\",\n",
      "                                            \"name\": \"r\"\n",
      "                                        },\n",
      "                                        \"type\": \"->\"\n",
      "                                    },\n",
      "                                    \"coord\": \"c-files/redis/src/rio.h:96\",\n",
      "                                    \"iffalse\": null,\n",
      "                                    \"iftrue\": {\n",
      "                                        \"_nodetype\": \"FuncCall\",\n",
      "                                        \"args\": {\n",
      "                                            \"_nodetype\": \"ExprList\",\n",
      "                                            \"coord\": \"c-files/redis/src/rio.h:96\",\n",
      "                                            \"exprs\": [\n",
      "                                                {\n",
      "                                                    \"_nodetype\": \"ID\",\n",
      "                                                    \"coord\": \"c-files/redis/src/rio.h:96\",\n",
      "                                                    \"name\": \"r\"\n",
      "                                                },\n",
      "                                                {\n",
      "                                                    \"_nodetype\": \"ID\",\n",
      "                                                    \"coord\": \"c-files/redis/src/rio.h:96\",\n",
      "                                                    \"name\": \"buf\"\n",
      "                                                },\n",
      "                                                {\n",
      "                                                    \"_nodetype\": \"ID\",\n",
      "                                                    \"coord\": \"c-files/redis/src/rio.h:96\",\n",
      "                                                    \"name\": \"bytes_to_write\"\n",
      "                                                }\n",
      "                                            ]\n",
      "                                        },\n",
      "                                        \"coord\": \"c-files/redis/src/rio.h:96\",\n",
      "                                        \"name\": {\n",
      "                                            \"_nodetype\": \"StructRef\",\n",
      "                                            \"coord\": \"c-files/redis/src/rio.h:96\",\n",
      "                                            \"field\": {\n",
      "                                                \"_nodetype\": \"ID\",\n",
      "                                                \"coord\": \"c-files/redis/src/rio.h:96\",\n",
      "                                                \"name\": \"update_cksum\"\n",
      "                                            },\n",
      "                                            \"name\": {\n",
      "                                                \"_nodetype\": \"ID\",\n",
      "                                                \"coord\": \"c-files/redis/src/rio.h:96\",\n",
      "                                                \"name\": \"r\"\n",
      "                                            },\n",
      "                                            \"type\": \"->\"\n",
      "                                        }\n",
      "                                    }\n",
      "                                },\n",
      "                                {\n",
      "                                    \"_nodetype\": \"If\",\n",
      "                                    \"cond\": {\n",
      "                                        \"_nodetype\": \"BinaryOp\",\n",
      "                                        \"coord\": \"c-files/redis/src/rio.h:97\",\n",
      "                                        \"left\": {\n",
      "                                            \"_nodetype\": \"FuncCall\",\n",
      "                                            \"args\": {\n",
      "                                                \"_nodetype\": \"ExprList\",\n",
      "                           \n"
     ]
    }
   ],
   "source": [
    "start = json.find(\"FuncCall\")\n",
    "print(json[start-2000:start+3000])"
   ]
  },
  {
   "cell_type": "markdown",
   "metadata": {},
   "source": [
    "## 4. Generate (restore) C source from JSON"
   ]
  },
  {
   "cell_type": "code",
   "execution_count": 6,
   "metadata": {
    "collapsed": false
   },
   "outputs": [],
   "source": [
    "ast2=from_json(json)\n",
    "\n",
    "generator = c_generator.CGenerator()\n",
    "with open(\"c-files/redis/src/redis.c.pp.c\", \"w\") as text_file:\n",
    "    print(generator.visit(ast2), file=text_file)\n"
   ]
  },
  {
   "cell_type": "markdown",
   "metadata": {},
   "source": [
    "### .. and verify result with cpp -E"
   ]
  },
  {
   "cell_type": "code",
   "execution_count": 7,
   "metadata": {
    "collapsed": false
   },
   "outputs": [],
   "source": [
    "%%sh\n",
    "cpp -E  c-files/redis/src/redis.c.pp.c > c-files/redis/src/redis.c.pp.c.pp"
   ]
  },
  {
   "cell_type": "markdown",
   "metadata": {},
   "source": [
    "#### print sampled 100 lines"
   ]
  },
  {
   "cell_type": "code",
   "execution_count": 8,
   "metadata": {
    "collapsed": false
   },
   "outputs": [
    {
     "name": "stdout",
     "output_type": "stream",
     "text": [
      "int dictObjKeyCompare(void *privdata, const void *key1, const void *key2)\n",
      "{\n",
      "  const robj *o1 = key1;\n",
      "  const robj *o2 = key2;\n",
      "  return dictSdsKeyCompare(privdata, o1->ptr, o2->ptr);\n",
      "}\n",
      "\n",
      "unsigned int dictObjHash(const void *key)\n",
      "{\n",
      "  const robj *o = key;\n",
      "  return dictGenHashFunction(o->ptr, sdslen((sds) o->ptr));\n",
      "}\n",
      "\n",
      "unsigned int dictSdsHash(const void *key)\n",
      "{\n",
      "  return dictGenHashFunction((unsigned char *) key, sdslen((char *) key));\n",
      "}\n",
      "\n",
      "unsigned int dictSdsCaseHash(const void *key)\n",
      "{\n",
      "  return dictGenCaseHashFunction((unsigned char *) key, sdslen((char *) key));\n",
      "}\n",
      "\n",
      "int dictEncObjKeyCompare(void *privdata, const void *key1, const void *key2)\n",
      "{\n",
      "  robj *o1 = (robj *) key1;\n",
      "  robj *o2 = (robj *) key2;\n",
      "  int cmp;\n",
      "  if ((o1->encoding == 1) && (o2->encoding == 1))\n",
      "    return o1->ptr == o2->ptr;\n",
      "\n",
      "  o1 = getDecodedObject(o1);\n",
      "  o2 = getDecodedObject(o2);\n",
      "  cmp = dictSdsKeyCompare(privdata, o1->ptr, o2->ptr);\n",
      "  decrRefCount(o1);\n",
      "  decrRefCount(o2);\n",
      "  return cmp;\n",
      "}\n",
      "\n",
      "unsigned int dictEncObjHash(const void *key)\n",
      "{\n",
      "  robj *o = (robj *) key;\n",
      "  if ((o->encoding == 0) || (o->encoding == 8))\n",
      "  {\n",
      "    return dictGenHashFunction(o->ptr, sdslen((sds) o->ptr));\n",
      "  }\n",
      "  else\n",
      "  {\n",
      "    if (o->encoding == 1)\n",
      "    {\n",
      "      char buf[32];\n",
      "      int len;\n",
      "      len = ll2string(buf, 32, (long) o->ptr);\n",
      "      return dictGenHashFunction((unsigned char *) buf, len);\n",
      "    }\n",
      "    else\n",
      "    {\n",
      "      unsigned int hash;\n",
      "      o = getDecodedObject(o);\n",
      "      hash = dictGenHashFunction(o->ptr, sdslen((sds) o->ptr));\n",
      "      decrRefCount(o);\n",
      "      return hash;\n",
      "    }\n",
      "\n",
      "  }\n",
      "\n",
      "}\n",
      "\n",
      "dictType setDictType = {dictEncObjHash, 0, 0, dictEncObjKeyCompare, dictRedisObjectDestructor, 0};\n",
      "dictType zsetDictType = {dictEncObjHash, 0, 0, dictEncObjKeyCompare, dictRedisObjectDestructor, 0};\n",
      "dictType dbDictType = {dictSdsHash, 0, 0, dictSdsKeyCompare, dictSdsDestructor, dictRedisObjectDestructor};\n",
      "dictType shaScriptObjectDictType = {dictSdsCaseHash, 0, 0, dictSdsKeyCaseCompare, dictSdsDestructor, dictRedisObjectDestructor};\n",
      "dictType keyptrDictType = {dictSdsHash, 0, 0, dictSdsKeyCompare, 0, 0};\n",
      "dictType commandTableDictType = {dictSdsCaseHash, 0, 0, dictSdsKeyCaseCompare, dictSdsDestructor, 0};\n",
      "dictType hashDictType = {dictEncObjHash, 0, 0, dictEncObjKeyCompare, dictRedisObjectDestructor, dictRedisObjectDestructor};\n",
      "dictType keylistDictType = {dictObjHash, 0, 0, dictObjKeyCompare, dictRedisObjectDestructor, dictListDestructor};\n",
      "dictType clusterNodesDictType = {dictSdsHash, 0, 0, dictSdsKeyCompare, dictSdsDestructor, 0};\n",
      "dictType clusterNodesBlackListDictType = {dictSdsCaseHash, 0, 0, dictSdsKeyCaseCompare, dictSdsDestructor, 0};\n",
      "dictType migrateCacheDictType = {dictSdsHash, 0, 0, dictSdsKeyCompare, dictSdsDestructor, 0};\n",
      "dictType replScriptCacheDictType = {dictSdsCaseHash, 0, 0, dictSdsKeyCaseCompare, dictSdsDestructor, 0};\n",
      "int htNeedsResize(dict *dict)\n",
      "{\n",
      "  long long size;\n",
      "  long long used;\n",
      "  size = dict->ht[0].size + dict->ht[1].size;\n",
      "  used = dict->ht[0].used + dict->ht[1].used;\n",
      "  return ((size && used) && (size > 4)) && (((used * 100) / size) < 10);\n",
      "}\n",
      "\n",
      "void tryResizeHashTables(int dbid)\n",
      "{\n",
      "  if (htNeedsResize(server.db[dbid].dict))\n",
      "    dictResize(server.db[dbid].dict);\n",
      "\n",
      "  if (htNeedsResize(server.db[dbid].expires))\n",
      "    dictResize(server.db[dbid].expires);\n",
      "\n",
      "}\n",
      "\n",
      "int incrementallyRehash(int dbid)\n"
     ]
    }
   ],
   "source": [
    "with open(\"c-files/redis/src/redis.c.pp.c.pp\", \"r\") as text_file:\n",
    "    for line in text_file.readlines()[2000:2100]: print (line, end='')"
   ]
  },
  {
   "cell_type": "code",
   "execution_count": null,
   "metadata": {
    "collapsed": true
   },
   "outputs": [],
   "source": []
  }
 ],
 "metadata": {
  "kernelspec": {
   "display_name": "Python 3",
   "language": "python",
   "name": "python3"
  },
  "language_info": {
   "codemirror_mode": {
    "name": "ipython",
    "version": 3
   },
   "file_extension": ".py",
   "mimetype": "text/x-python",
   "name": "python",
   "nbconvert_exporter": "python",
   "pygments_lexer": "ipython3",
   "version": "3.4.3"
  }
 },
 "nbformat": 4,
 "nbformat_minor": 2
}
